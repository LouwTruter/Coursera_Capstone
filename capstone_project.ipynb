{
 "cells": [
  {
   "cell_type": "markdown",
   "metadata": {},
   "source": [
    "# **Coursera Capstone**\n",
    "### ML Truter\n",
    "\n",
    "*This notebook documents the final capstone project of the IBM Data Science Professional Certificate*"
   ]
  },
  {
   "cell_type": "code",
   "execution_count": 1,
   "metadata": {},
   "outputs": [],
   "source": [
    "# Modules for data wrangling\n",
    "import numpy as np\n",
    "import pandas as pd\n",
    "\n",
    "# Matplotlib and associated plotting modules\n",
    "import matplotlib.pyplot as plt \n",
    "import matplotlib.cm as cm\n",
    "import matplotlib.colors as colors\n",
    "import folium # Map plotting\n",
    "\n",
    "# Module for other functionalty\n",
    "import os\n",
    "import json # library to handle JSON files\n",
    "import requests # library to handle requests\n",
    "from pandas.io.json import json_normalize # tranform JSON file into a pandas dataframe\n",
    "\n",
    "# Modules for model building\n",
    "from sklearn.cluster import KMeans\n",
    "from sklearn.cluster import AgglomerativeClustering\n",
    "from sklearn.preprocessing import normalize # Not usefull method to use in my opinion\n",
    "from sklearn.preprocessing import MinMaxScaler # Not usefull method to use\n",
    "import scipy.cluster.hierarchy as shc\n",
    "\n",
    "# Settings for modules\n",
    "pd.set_option('display.max_columns', None)\n",
    "pd.set_option('display.max_rows', 500)"
   ]
  },
  {
   "cell_type": "code",
   "execution_count": 2,
   "metadata": {},
   "outputs": [
    {
     "data": {
      "text/plain": [
       "['.git',\n",
       " '.ipynb_checkpoints',\n",
       " 'canadian_cities.csv',\n",
       " 'capstone_project.ipynb',\n",
       " 'Capstone_The-Battle-of-the-Neighborhoods_Example.ipynb',\n",
       " 'cluster_insights.xlsx',\n",
       " 'cost_of_living_index.csv',\n",
       " 'Geospatial_Coordinates.csv',\n",
       " 'Neighborhood_Segmentation_Clustering.ipynb',\n",
       " 'README.md',\n",
       " 'test.py']"
      ]
     },
     "execution_count": 2,
     "metadata": {},
     "output_type": "execute_result"
    }
   ],
   "source": [
    "os.listdir()"
   ]
  },
  {
   "cell_type": "code",
   "execution_count": 3,
   "metadata": {},
   "outputs": [],
   "source": [
    "# Load data to be used\n",
    "df_lcost = pd.read_csv('cost_of_living_index.csv') # Relative living cost metrics relative to New York (baseline = 100)\n",
    "df_cities = pd.read_csv('canadian_cities.csv') "
   ]
  },
  {
   "cell_type": "code",
   "execution_count": 4,
   "metadata": {},
   "outputs": [],
   "source": [
    "# Data Cleaning and merging\n",
    "# Filter out only canadian cities from the df_lcost df\n",
    "df_temp = pd.DataFrame()\n",
    "df_temp = df_lcost.drop('City', axis=1)\n",
    "\n",
    "df_temp['City'] = df_lcost['City'].apply(lambda x: x.split(',')[0].strip())\n",
    "df_temp['Country'] = df_lcost['City'].apply(lambda x: x.split(',')[1].strip())\n",
    "\n",
    "# Only keep Canadian cities \n",
    "df_temp = df_temp[df_temp['Country'] == 'Canada']\n",
    "df_temp['City'] = df_temp['City'].apply(lambda x:x.replace('Quebec City', 'Quebec')) \n",
    "\n",
    "# Clean location and population df (naming of Montreal and Quebec)\n",
    "df_cities['city'] = df_cities['city'].apply(lambda x:x.replace('é', 'e').strip())\n",
    "\n",
    "# Merge dataframes\n",
    "df_can = pd.merge(left=df_temp, right=df_cities, left_on='City', right_on='city', how='inner')\n",
    "df_can = df_can.drop(['city', 'country', 'capital', 'Country', 'iso2', 'population_proper'], axis=1).reset_index()\n",
    "\n",
    "# Reorder the columns more logically\n",
    "df_can = df_can[['City', 'admin', 'lat', 'lng', 'population', 'Cost of Living Index', 'Rent Index', 'Local Purchasing Power Index']]\n",
    "df_can = df_can.rename(columns={'City':'city', 'population':'pop', 'Cost of Living Index':'living_indx', 'Rent Index':'rent_indx', 'Local Purchasing Power Index':'ppi'})"
   ]
  },
  {
   "cell_type": "code",
   "execution_count": 5,
   "metadata": {},
   "outputs": [
    {
     "data": {
      "text/html": [
       "<div>\n",
       "<style scoped>\n",
       "    .dataframe tbody tr th:only-of-type {\n",
       "        vertical-align: middle;\n",
       "    }\n",
       "\n",
       "    .dataframe tbody tr th {\n",
       "        vertical-align: top;\n",
       "    }\n",
       "\n",
       "    .dataframe thead th {\n",
       "        text-align: right;\n",
       "    }\n",
       "</style>\n",
       "<table border=\"1\" class=\"dataframe\">\n",
       "  <thead>\n",
       "    <tr style=\"text-align: right;\">\n",
       "      <th></th>\n",
       "      <th>city</th>\n",
       "      <th>admin</th>\n",
       "      <th>lat</th>\n",
       "      <th>lng</th>\n",
       "      <th>pop</th>\n",
       "      <th>living_indx</th>\n",
       "      <th>rent_indx</th>\n",
       "      <th>ppi</th>\n",
       "    </tr>\n",
       "  </thead>\n",
       "  <tbody>\n",
       "    <tr>\n",
       "      <td>18</td>\n",
       "      <td>Ottawa</td>\n",
       "      <td>Ontario</td>\n",
       "      <td>45.416667</td>\n",
       "      <td>-75.700000</td>\n",
       "      <td>1145000</td>\n",
       "      <td>62.88</td>\n",
       "      <td>30.26</td>\n",
       "      <td>144.70</td>\n",
       "    </tr>\n",
       "    <tr>\n",
       "      <td>13</td>\n",
       "      <td>Quebec</td>\n",
       "      <td>Québec</td>\n",
       "      <td>46.800000</td>\n",
       "      <td>-71.250000</td>\n",
       "      <td>624177</td>\n",
       "      <td>65.07</td>\n",
       "      <td>16.10</td>\n",
       "      <td>140.18</td>\n",
       "    </tr>\n",
       "    <tr>\n",
       "      <td>7</td>\n",
       "      <td>Red Deer</td>\n",
       "      <td>Alberta</td>\n",
       "      <td>52.266667</td>\n",
       "      <td>-113.800000</td>\n",
       "      <td>74857</td>\n",
       "      <td>67.42</td>\n",
       "      <td>23.58</td>\n",
       "      <td>140.16</td>\n",
       "    </tr>\n",
       "    <tr>\n",
       "      <td>5</td>\n",
       "      <td>Calgary</td>\n",
       "      <td>Alberta</td>\n",
       "      <td>51.083333</td>\n",
       "      <td>-114.083333</td>\n",
       "      <td>1110000</td>\n",
       "      <td>68.93</td>\n",
       "      <td>29.85</td>\n",
       "      <td>138.51</td>\n",
       "    </tr>\n",
       "    <tr>\n",
       "      <td>23</td>\n",
       "      <td>Kitchener</td>\n",
       "      <td>Ontario</td>\n",
       "      <td>43.446976</td>\n",
       "      <td>-80.472484</td>\n",
       "      <td>417001</td>\n",
       "      <td>58.93</td>\n",
       "      <td>25.38</td>\n",
       "      <td>129.74</td>\n",
       "    </tr>\n",
       "  </tbody>\n",
       "</table>\n",
       "</div>"
      ],
      "text/plain": [
       "         city    admin        lat         lng      pop  living_indx  \\\n",
       "18     Ottawa  Ontario  45.416667  -75.700000  1145000        62.88   \n",
       "13     Quebec   Québec  46.800000  -71.250000   624177        65.07   \n",
       "7    Red Deer  Alberta  52.266667 -113.800000    74857        67.42   \n",
       "5     Calgary  Alberta  51.083333 -114.083333  1110000        68.93   \n",
       "23  Kitchener  Ontario  43.446976  -80.472484   417001        58.93   \n",
       "\n",
       "    rent_indx     ppi  \n",
       "18      30.26  144.70  \n",
       "13      16.10  140.18  \n",
       "7       23.58  140.16  \n",
       "5       29.85  138.51  \n",
       "23      25.38  129.74  "
      ]
     },
     "execution_count": 5,
     "metadata": {},
     "output_type": "execute_result"
    }
   ],
   "source": [
    "# Top 5 Cities in Canada in terms of PPI\n",
    "df_can.sort_values('ppi', ascending=False).head(5)"
   ]
  },
  {
   "cell_type": "code",
   "execution_count": 6,
   "metadata": {},
   "outputs": [],
   "source": [
    "# Augment current df with data from the Foursquare API\n",
    "# Foursquare API user details\n",
    "CLIENT_ID = 'O0LIFMUBGPNZ4Y5NSWWC23OFU0QM3QMDLX32UN42DOAXXLVB'\n",
    "CLIENT_CODE = '2J5PWAOXJKSTRSTPZBJMCFP1QMNQUU5NNRGGNSR2R45AK5X3'\n",
    "VERSION = '20180605'\n",
    "URL_SEARCH = 'https://api.foursquare.com/v2/venues/search'\n",
    "LIMIT = 100\n",
    "\n",
    "def search_call_num_locs(city_lat, city_lng, radius, category_ids):\n",
    "    \"\"\" Function that returns the number of venues within the specified radius as defined by the category ids.\"\"\"\n",
    "    \n",
    "    params = dict(\n",
    "      client_id=CLIENT_ID,\n",
    "      client_secret=CLIENT_CODE,\n",
    "      v=VERSION,\n",
    "      ll='{}, {}'.format(city_lat, city_lng),\n",
    "      radius=radius,\n",
    "      intent='browse',\n",
    "      categoryId=category_ids,\n",
    "      limit=LIMIT\n",
    "    )\n",
    "    \n",
    "    resp = requests.get(url=URL_SEARCH, params=params)\n",
    "    data = json.loads(resp.text)\n",
    "    num_venues = len(data['response']['venues'])\n",
    "    return num_venues\n",
    "    "
   ]
  },
  {
   "cell_type": "code",
   "execution_count": 66,
   "metadata": {},
   "outputs": [],
   "source": [
    "city_locs = pd.DataFrame(columns=['city', 'admin', 'outdoor', 'food', 'work_opp', 'entertainment', 'remoteness'])\n",
    "\n",
    "# Determine category ids of locations of interest (from: https://developer.foursquare.com/docs/resources/categories)\n",
    "\n",
    "# List of outdoor locations of interest. Search for outdoor trails, ski trails, biking trails, outdoor gyms \n",
    "outdoor_loc_interest = ['4bf58dd8d48988d159941735', '4eb1c0f63b7b52c0e1adc2eb', '56aa371be4b08b9a8d57355e', '58daa1558bbb0b01f18ec203']\n",
    "rad_outd = '30000' # Radius to search for outdoor locations (m) #20000\n",
    "# Food locations of interest\n",
    "food_loc = ['4d4b7105d754a06374d81259']\n",
    "rad_food = '3000' \n",
    "# Work opportunity locations of interest. Tech startups, corporate cafeteria and corporate coffee shops\n",
    "work_loc = ['4bf58dd8d48988d125941735', '54f4ba06498e2cf5561da814', '5665c7b9498e7d8a4f2c0f06']\n",
    "rad_work = '35000' \n",
    "# Entertainment locations of interest. Nightlife: Beer bar, whisky bar, nightclubs, wine bar and pubs\n",
    "entertainm_loc = ['4bf58dd8d48988d122941735', '4bf58dd8d48988d11b941735', '56aa371ce4b08b9a8d57356c', '4bf58dd8d48988d11f941735']\n",
    "rad_enter = '15000'\n",
    "# Remoteness locations of interest. Airports\n",
    "remoteness_loc = ['4bf58dd8d48988d1eb931735']\n",
    "rad_remoteness = '50000'\n",
    "\n",
    "for i, city in df_can.iterrows(): # for each city\n",
    "\n",
    "    num_outdoor_loc = search_call_num_locs(city['lat'], city['lng'], rad_outd, outdoor_loc_interest)\n",
    "    \n",
    "    num_food_loc = search_call_num_locs(city['lat'], city['lng'], rad_food, food_loc)\n",
    "\n",
    "    num_work_loc = search_call_num_locs(city['lat'], city['lng'], rad_work, work_loc)\n",
    "\n",
    "    num_enter_loc = search_call_num_locs(city['lat'], city['lng'], rad_enter, entertainm_loc)\n",
    "\n",
    "    num_remoteness_loc = search_call_num_locs(city['lat'], city['lng'], rad_remoteness, remoteness_loc)\n",
    "    \n",
    "    # Add data to the dataframe\n",
    "    city_locs = city_locs.append({'city':city['city'], 'admin':city['admin'], 'outdoor':num_outdoor_loc, 'food':num_food_loc, 'work_opp':num_work_loc, 'entertainment':num_enter_loc, 'remoteness':num_remoteness_loc}, ignore_index=True)\n",
    "    "
   ]
  },
  {
   "cell_type": "code",
   "execution_count": 67,
   "metadata": {
    "scrolled": true
   },
   "outputs": [
    {
     "data": {
      "text/plain": [
       "(24, 7)"
      ]
     },
     "execution_count": 67,
     "metadata": {},
     "output_type": "execute_result"
    }
   ],
   "source": [
    "city_locs.shape"
   ]
  },
  {
   "cell_type": "code",
   "execution_count": 68,
   "metadata": {},
   "outputs": [],
   "source": [
    "# Merge city location data with the cost data\n",
    "df_final = pd.merge(left=df_can, right=city_locs, on=['city', 'admin'], how='inner')\n",
    "# Rename Windsor city name so they are distinguisable\n",
    "df_final.loc[(df_final['city'] == 'Windsor') & (df_final['admin'] == 'Ontario'), 'city'] = 'Windsor ON'\n",
    "df_final.loc[(df_final['city'] == 'Windsor') & (df_final['admin'] == 'Nova Scotia'), 'city'] = 'Windsor NS'"
   ]
  },
  {
   "cell_type": "code",
   "execution_count": 12,
   "metadata": {},
   "outputs": [],
   "source": [
    "# Cluster the cities in some usefull way - this can be changed to change preferences\n",
    "# All columns: ['city', 'admin', 'lat', 'lng', 'pop', 'living_indx', 'rent_indx', 'ppi', 'outdoor', 'food', 'work_opp', 'entertainment', 'remoteness', 'cluster']\n",
    "cols_for_clustering = ['ppi', 'living_indx', 'rent_indx', 'outdoor', 'work_opp', 'entertainment', 'remoteness']\n",
    "X = df_final[cols_for_clustering]\n",
    "\n",
    "# Scale attributes in order to compare like-wise numbers\n",
    "scaler = MinMaxScaler()\n",
    "X_scaled = scaler.fit_transform(X)\n",
    "X_scaled = pd.DataFrame(data=X_scaled, columns=X.columns)"
   ]
  },
  {
   "cell_type": "code",
   "execution_count": 13,
   "metadata": {},
   "outputs": [
    {
     "data": {
      "text/plain": [
       "<matplotlib.lines.Line2D at 0x2822df0b448>"
      ]
     },
     "execution_count": 13,
     "metadata": {},
     "output_type": "execute_result"
    },
    {
     "data": {
      "image/png": "[encoded data removed]",
      "text/plain": [
       "<Figure size 1440x1080 with 1 Axes>"
      ]
     },
     "metadata": {
      "needs_background": "light"
     },
     "output_type": "display_data"
    }
   ],
   "source": [
    "plt.figure(figsize=(20, 15))\n",
    "plt.title('Dendogram of cities')\n",
    "dend = shc.dendrogram(shc.linkage(X_scaled, method='ward'), labels=list(df_final['city']))\n",
    "plt.xlabel('City')\n",
    "plt.ylabel('Distance metric')\n",
    "plt.axhline(y=1.25, color='k', linestyle='--')"
   ]
  },
  {
   "cell_type": "code",
   "execution_count": 17,
   "metadata": {},
   "outputs": [
    {
     "name": "stderr",
     "output_type": "stream",
     "text": [
      "C:\\Users\\Martin Truter\\AppData\\Local\\Continuum\\anaconda3\\lib\\site-packages\\ipykernel_launcher.py:8: SettingWithCopyWarning: \n",
      "A value is trying to be set on a copy of a slice from a DataFrame.\n",
      "Try using .loc[row_indexer,col_indexer] = value instead\n",
      "\n",
      "See the caveats in the documentation: http://pandas.pydata.org/pandas-docs/stable/user_guide/indexing.html#returning-a-view-versus-a-copy\n",
      "  \n"
     ]
    }
   ],
   "source": [
    "# Train agglomerative cluster model\n",
    "n_clust = 5 # Number of clusters, decided from the dendogram\n",
    "mdl_cluster = AgglomerativeClustering(n_clusters=n_clust, affinity='euclidean', linkage='ward')\n",
    "mdl_cluster.fit_predict(X_scaled)\n",
    "\n",
    "# Add cluster values to the dataframe\n",
    "df_clust = df_final\n",
    "df_clust = df_clust[['city', 'admin', 'lat', 'lng'] + cols_for_clustering]\n",
    "df_clust['cluster'] = mdl_cluster.labels_"
   ]
  },
  {
   "cell_type": "code",
   "execution_count": 65,
   "metadata": {},
   "outputs": [
    {
     "data": {
      "text/html": [
       "<div>\n",
       "<style scoped>\n",
       "    .dataframe tbody tr th:only-of-type {\n",
       "        vertical-align: middle;\n",
       "    }\n",
       "\n",
       "    .dataframe tbody tr th {\n",
       "        vertical-align: top;\n",
       "    }\n",
       "\n",
       "    .dataframe thead th {\n",
       "        text-align: right;\n",
       "    }\n",
       "</style>\n",
       "<table border=\"1\" class=\"dataframe\">\n",
       "  <thead>\n",
       "    <tr style=\"text-align: right;\">\n",
       "      <th></th>\n",
       "      <th>lat</th>\n",
       "      <th>lng</th>\n",
       "      <th>pop</th>\n",
       "      <th>living_indx</th>\n",
       "      <th>rent_indx</th>\n",
       "      <th>ppi</th>\n",
       "    </tr>\n",
       "  </thead>\n",
       "  <tbody>\n",
       "    <tr>\n",
       "      <td>count</td>\n",
       "      <td>24.000000</td>\n",
       "      <td>24.000000</td>\n",
       "      <td>2.400000e+01</td>\n",
       "      <td>24.000000</td>\n",
       "      <td>24.000000</td>\n",
       "      <td>24.000000</td>\n",
       "    </tr>\n",
       "    <tr>\n",
       "      <td>mean</td>\n",
       "      <td>46.986548</td>\n",
       "      <td>-91.263747</td>\n",
       "      <td>8.247857e+05</td>\n",
       "      <td>65.884167</td>\n",
       "      <td>27.903333</td>\n",
       "      <td>116.852083</td>\n",
       "    </tr>\n",
       "    <tr>\n",
       "      <td>std</td>\n",
       "      <td>3.417750</td>\n",
       "      <td>20.843905</td>\n",
       "      <td>1.245533e+06</td>\n",
       "      <td>4.652763</td>\n",
       "      <td>7.429626</td>\n",
       "      <td>14.251336</td>\n",
       "    </tr>\n",
       "    <tr>\n",
       "      <td>min</td>\n",
       "      <td>42.301649</td>\n",
       "      <td>-123.343529</td>\n",
       "      <td>3.864000e+03</td>\n",
       "      <td>58.930000</td>\n",
       "      <td>16.100000</td>\n",
       "      <td>94.650000</td>\n",
       "    </tr>\n",
       "    <tr>\n",
       "      <td>25%</td>\n",
       "      <td>44.200000</td>\n",
       "      <td>-113.575000</td>\n",
       "      <td>1.700580e+05</td>\n",
       "      <td>63.082500</td>\n",
       "      <td>23.670000</td>\n",
       "      <td>108.457500</td>\n",
       "    </tr>\n",
       "    <tr>\n",
       "      <td>50%</td>\n",
       "      <td>45.798260</td>\n",
       "      <td>-80.861242</td>\n",
       "      <td>3.529380e+05</td>\n",
       "      <td>65.805000</td>\n",
       "      <td>26.610000</td>\n",
       "      <td>113.355000</td>\n",
       "    </tr>\n",
       "    <tr>\n",
       "      <td>75%</td>\n",
       "      <td>49.887500</td>\n",
       "      <td>-76.350000</td>\n",
       "      <td>8.052898e+05</td>\n",
       "      <td>68.577500</td>\n",
       "      <td>29.377500</td>\n",
       "      <td>127.732500</td>\n",
       "    </tr>\n",
       "    <tr>\n",
       "      <td>max</td>\n",
       "      <td>53.550000</td>\n",
       "      <td>-63.600000</td>\n",
       "      <td>5.213000e+06</td>\n",
       "      <td>77.370000</td>\n",
       "      <td>49.260000</td>\n",
       "      <td>144.700000</td>\n",
       "    </tr>\n",
       "  </tbody>\n",
       "</table>\n",
       "</div>"
      ],
      "text/plain": [
       "             lat         lng           pop  living_indx  rent_indx         ppi\n",
       "count  24.000000   24.000000  2.400000e+01    24.000000  24.000000   24.000000\n",
       "mean   46.986548  -91.263747  8.247857e+05    65.884167  27.903333  116.852083\n",
       "std     3.417750   20.843905  1.245533e+06     4.652763   7.429626   14.251336\n",
       "min    42.301649 -123.343529  3.864000e+03    58.930000  16.100000   94.650000\n",
       "25%    44.200000 -113.575000  1.700580e+05    63.082500  23.670000  108.457500\n",
       "50%    45.798260  -80.861242  3.529380e+05    65.805000  26.610000  113.355000\n",
       "75%    49.887500  -76.350000  8.052898e+05    68.577500  29.377500  127.732500\n",
       "max    53.550000  -63.600000  5.213000e+06    77.370000  49.260000  144.700000"
      ]
     },
     "execution_count": 65,
     "metadata": {},
     "output_type": "execute_result"
    }
   ],
   "source": [
    "# Resulting clusters for cities\n",
    "df_final.describe()"
   ]
  },
  {
   "cell_type": "code",
   "execution_count": 61,
   "metadata": {},
   "outputs": [
    {
     "data": {
      "text/html": [
       "<div style=\"width:100%;\"><div style=\"position:relative;width:100%;height:0;padding-bottom:60%;\"><iframe src=\"data:text/html;charset=utf-8;base64,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\" style=\"position:absolute;width:100%;height:100%;left:0;top:0;border:none !important;\" allowfullscreen webkitallowfullscreen mozallowfullscreen></iframe></div></div>"
      ],
      "text/plain": [
       "<folium.folium.Map at 0x2823018cb48>"
      ]
     },
     "execution_count": 61,
     "metadata": {},
     "output_type": "execute_result"
    }
   ],
   "source": [
    "# Visualize results\n",
    "# plt.figure(figsize=(12, 8))\n",
    "# plt.scatter(x=df_clust['living_indx'], y=df_clust['remoteness'], c=df_clust['cluster'])\n",
    "\n",
    "# Visualise the results in Folium \n",
    "# create map of New York using latitude and longitude values\n",
    "can_lat = 55\n",
    "can_lng = -93\n",
    "map_canada = folium.Map(location=[can_lat, can_lng], zoom_start=3)\n",
    "\n",
    "# Create different color for each cluster\n",
    "clust_colors = ['#2c6fbb', '#02ab2e', '#9aae07', '#c04e01', '#929591']\n",
    "\n",
    "# add markers to map\n",
    "for lat, lng, city, cluster in zip(df_clust['lat'], df_clust['lng'], df_clust['city'], df_clust['cluster']):\n",
    "    label = '{}, cluster: {}'.format(city, cluster)\n",
    "    label = folium.Popup(label, parse_html=False, show=False)\n",
    "    folium.CircleMarker(\n",
    "        [lat, lng],\n",
    "        radius=5,\n",
    "        popup=label,\n",
    "        color=clust_colors[cluster],\n",
    "        fill=True,\n",
    "        fill_color=clust_colors[cluster],\n",
    "        fill_opacity=0.7,\n",
    "        parse_html=False).add_to(map_canada)  \n",
    "    \n",
    "map_canada"
   ]
  }
 ],
 "metadata": {
  "kernelspec": {
   "display_name": "Python 3",
   "language": "python",
   "name": "python3"
  },
  "language_info": {
   "codemirror_mode": {
    "name": "ipython",
    "version": 3
   },
   "file_extension": ".py",
   "mimetype": "text/x-python",
   "name": "python",
   "nbconvert_exporter": "python",
   "pygments_lexer": "ipython3",
   "version": "3.7.4"
  }
 },
 "nbformat": 4,
 "nbformat_minor": 2
}
